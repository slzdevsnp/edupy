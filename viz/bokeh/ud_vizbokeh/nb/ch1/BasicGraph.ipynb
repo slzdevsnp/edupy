{
 "cells": [
  {
   "cell_type": "code",
   "execution_count": 3,
   "metadata": {},
   "outputs": [],
   "source": [
    "from bokeh.plotting import figure\n",
    "from bokeh.io import output_file,show,save"
   ]
  },
  {
   "cell_type": "code",
   "execution_count": 4,
   "metadata": {},
   "outputs": [],
   "source": [
    "## prep some dummy data\n",
    "x=[-3,-2,-1,0,1,2,3,4,5]\n",
    "#y=[6,7,8,9,10]\n",
    "\n",
    "def squared(x):\n",
    "    return [el**2 for el in x]\n",
    "\n",
    "#prep output html file\n",
    "output_file(\"qline.html\")\n",
    "\n",
    "f=figure()\n",
    "#create line plot\n",
    "f.circle(x,squared(x))  # a line glyph\n",
    "\n",
    "show(f)"
   ]
  },
  {
   "cell_type": "code",
   "execution_count": 10,
   "metadata": {},
   "outputs": [
    {
     "data": {
      "text/plain": [
       "'/Users/zimine/GoogleDriveSlzdev/zrepos/slzdevsnp/clearn/python/py_bokeh/vizbokeh'"
      ]
     },
     "execution_count": 10,
     "metadata": {},
     "output_type": "execute_result"
    }
   ],
   "source": [
    "import os\n",
    "os.getcwd()"
   ]
  },
  {
   "cell_type": "code",
   "execution_count": 12,
   "metadata": {},
   "outputs": [],
   "source": [
    "import pandas\n",
    "\n",
    "\n",
    "##get data\n",
    "df=pandas\\\n",
    "    .read_csv(\"/Users/zimine/zgoogledrive/zrepos/slzdevsnp/clearn/python/py_bokeh/vizbokeh/nb/ch1/data.csv\")\n",
    "x=df[\"x\"]\n",
    "y=df[\"y\"]\n",
    "#prep output html file\n",
    "output_file(\"line_from_csv.html\")\n",
    "\n",
    "f=figure()\n",
    "#create line plot\n",
    "f.line(x,y)  # a line glyph\n",
    "\n",
    "show(f)"
   ]
  },
  {
   "cell_type": "code",
   "execution_count": 28,
   "metadata": {},
   "outputs": [
    {
     "name": "stdout",
     "output_type": "stream",
     "text": [
      "   Year  Agriculture  Architecture  Art and Performance    Biology  Business  \\\n0  1970     4.229798     11.921005                 59.7  29.088363  9.064439   \n1  1971     5.452797     12.003106                 59.9  29.394403  9.503187   \n\n   Communications and Journalism  Computer Science  Education  Engineering  \\\n0                           35.3              13.6  74.535328          0.8   \n1                           35.5              13.6  74.149204          1.0   \n\n     English  Foreign Languages  Health Professions  Math and Statistics  \\\n0  65.570923               73.8                77.1                 38.0   \n1  64.556485               73.9                75.5                 39.0   \n\n   Physical Sciences  Psychology  Public Administration  \\\n0               13.8        44.4                   68.4   \n1               14.9        46.2                   65.5   \n\n   Social Sciences and History  \n0                         36.8  \n1                         36.2  \n"
     ]
    }
   ],
   "source": [
    "from pprint import pprint as pp\n",
    "##exercise, csv from the web\n",
    "df=pandas.read_csv(\"http://pythonhow.com/data/bachelors.csv\")\n",
    "pp(df.head(2))"
   ]
  },
  {
   "cell_type": "code",
   "execution_count": 30,
   "metadata": {},
   "outputs": [],
   "source": [
    "x=df['Year']\n",
    "y=df['Engineering']\n",
    "\n",
    "output_file(\"data_csv_women.html\")\n",
    "f1=figure()\n",
    "f1.line(x,y)\n",
    "#save(f1)   ##saves to the file just this picture\n",
    "show(f1)"
   ]
  },
  {
   "cell_type": "code",
   "execution_count": 19,
   "metadata": {},
   "outputs": [
    {
     "data": {
      "text/plain": [
       "0     1970\n1     1971\n2     1972\n3     1973\n4     1974\n5     1975\n6     1976\n7     1977\n8     1978\n9     1979\n10    1980\n11    1981\n12    1982\n13    1983\n14    1984\n15    1985\n16    1986\n17    1987\n18    1988\n19    1989\n20    1990\n21    1991\n22    1992\n23    1993\n24    1994\n25    1995\n26    1996\n27    1997\n28    1998\n29    1999\n30    2000\n31    2001\n32    2002\n33    2003\n34    2004\n35    2005\n36    2006\n37    2007\n38    2008\n39    2009\n40    2010\n41    2011\nName: Year, dtype: int64"
      ]
     },
     "execution_count": 19,
     "metadata": {},
     "output_type": "execute_result"
    }
   ],
   "source": [
    "x"
   ]
  },
  {
   "cell_type": "code",
   "execution_count": null,
   "metadata": {},
   "outputs": [],
   "source": []
  }
 ],
 "metadata": {
  "kernelspec": {
   "display_name": "Python 3",
   "language": "python",
   "name": "python3"
  },
  "language_info": {
   "codemirror_mode": {
    "name": "ipython",
    "version": 3
   },
   "file_extension": ".py",
   "mimetype": "text/x-python",
   "name": "python",
   "nbconvert_exporter": "python",
   "pygments_lexer": "ipython3",
   "version": "3.6.5"
  }
 },
 "nbformat": 4,
 "nbformat_minor": 2
}
