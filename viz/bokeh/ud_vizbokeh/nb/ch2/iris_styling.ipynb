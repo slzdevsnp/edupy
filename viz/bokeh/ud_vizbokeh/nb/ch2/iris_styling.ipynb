{
 "cells": [
  {
   "cell_type": "code",
   "execution_count": 3,
   "metadata": {},
   "outputs": [],
   "source": [
    "#Importing libraries\n",
    "from pprint import pprint as pp\n",
    "from bokeh.plotting import figure\n",
    "from bokeh.io import output_notebook, output_file, show,save\n",
    "from bokeh.sampledata.iris import flowers"
   ]
  },
  {
   "cell_type": "code",
   "execution_count": 10,
   "metadata": {},
   "outputs": [
    {
     "data": {
      "text/plain": [
       "'/Users/zimine/GoogleDriveSlzdev/zrepos/slzdevsnp/clearn/python/py_bokeh/vizbokeh'"
      ]
     },
     "execution_count": 10,
     "metadata": {},
     "output_type": "execute_result"
    }
   ],
   "source": [
    "import os \n",
    "os.getcwd()"
   ]
  },
  {
   "cell_type": "code",
   "execution_count": 6,
   "metadata": {},
   "outputs": [
    {
     "name": "stdout",
     "output_type": "stream",
     "text": [
      "   sepal_length  sepal_width  petal_length  petal_width species\n0           5.1          3.5           1.4          0.2  setosa\n1           4.9          3.0           1.4          0.2  setosa\n2           4.7          3.2           1.3          0.2  setosa\n3           4.6          3.1           1.5          0.2  setosa\n4           5.0          3.6           1.4          0.2  setosa\n"
     ]
    }
   ],
   "source": [
    "pp(flowers.head(5))"
   ]
  },
  {
   "cell_type": "markdown",
   "metadata": {},
   "source": [
    "### Basic plot"
   ]
  },
  {
   "cell_type": "code",
   "execution_count": 9,
   "metadata": {},
   "outputs": [
    {
     "data": {
      "text/plain": [
       "'/Users/zimine/GoogleDriveSlzdev/zrepos/slzdevsnp/clearn/python/py_bokeh/vizbokeh/iris.html'"
      ]
     },
     "execution_count": 9,
     "metadata": {},
     "output_type": "execute_result"
    }
   ],
   "source": [
    "#Define the output file path\n",
    "output_file(\"iris.html\")\n",
    "#Create the figure object\n",
    "f = figure()\n",
    "\n",
    "#adding glyphs\n",
    "f.circle(x=flowers[\"petal_length\"],\\\n",
    "         y=flowers[\"petal_width\"])\n",
    "\n",
    "#Save and show the figures\n",
    "save(f)\n",
    "#show(f)"
   ]
  },
  {
   "cell_type": "code",
   "execution_count": 14,
   "metadata": {},
   "outputs": [
    {
     "data": {
      "text/plain": [
       "'/Users/zimine/GoogleDriveSlzdev/zrepos/slzdevsnp/clearn/python/py_bokeh/vizbokeh/iris.html'"
      ]
     },
     "execution_count": 14,
     "metadata": {},
     "output_type": "execute_result"
    }
   ],
   "source": [
    "output_file(\"iris.html\")\n",
    "#Create the figure object\n",
    "f = figure()\n",
    "\n",
    "#stylyzine the plot area (chart size!)\n",
    "f.plot_width=900\n",
    "f.plot_height=500\n",
    "##colors\n",
    "#f.background_fill_color=\"olive\"\n",
    "f.background_fill_color=\"#BFEBBB\"\n",
    "f.background_fill_alpha=0.25\n",
    "f.border_fill_color=\"orange\"\n",
    "\n",
    "#style the title\n",
    "f.title.text=\"Iris Morphology\"\n",
    "\n",
    "#adding glyphs\n",
    "f.circle(x=flowers[\"petal_length\"],\\\n",
    "         y=flowers[\"petal_width\"])\n",
    "\n",
    "\n",
    "save(f)\n",
    "#show(f)"
   ]
  },
  {
   "cell_type": "code",
   "execution_count": 17,
   "metadata": {},
   "outputs": [
    {
     "data": {
      "text/plain": [
       "bokeh.plotting.figure.Figure"
      ]
     },
     "execution_count": 17,
     "metadata": {},
     "output_type": "execute_result"
    }
   ],
   "source": [
    "### dir(f) shows the properties of the object f\n",
    "type(f)"
   ]
  },
  {
   "cell_type": "code",
   "execution_count": null,
   "metadata": {},
   "outputs": [],
   "source": []
  }
 ],
 "metadata": {
  "kernelspec": {
   "display_name": "bokeh",
   "language": "python",
   "name": "bokeh"
  },
  "language_info": {
   "codemirror_mode": {
    "name": "ipython",
    "version": 3
   },
   "file_extension": ".py",
   "mimetype": "text/x-python",
   "name": "python",
   "nbconvert_exporter": "python",
   "pygments_lexer": "ipython3",
   "version": "3.6.5"
  }
 },
 "nbformat": 4,
 "nbformat_minor": 2
}
